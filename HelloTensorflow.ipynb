{
  "nbformat": 4,
  "nbformat_minor": 0,
  "metadata": {
    "kernelspec": {
      "name": "python3",
      "display_name": "Python 3"
    },
    "colab": {
      "name": "HelloTensorflow.ipynb",
      "provenance": [],
      "include_colab_link": true
    }
  },
  "cells": [
    {
      "cell_type": "markdown",
      "metadata": {
        "id": "view-in-github",
        "colab_type": "text"
      },
      "source": [
        "<a href=\"https://colab.research.google.com/github/wenyuesr/chinese-programmer-wrong-pronunciation/blob/master/HelloTensorflow.ipynb\" target=\"_parent\"><img src=\"https://colab.research.google.com/assets/colab-badge.svg\" alt=\"Open In Colab\"/></a>"
      ]
    },
    {
      "cell_type": "markdown",
      "metadata": {
        "id": "fBDHdneEhV0-",
        "colab_type": "text"
      },
      "source": [
        "# TensorFlow\n",
        "- Tensor + Flow"
      ]
    },
    {
      "cell_type": "code",
      "metadata": {
        "id": "KD5DlqgYhV0_",
        "colab_type": "code",
        "colab": {
          "base_uri": "https://localhost:8080/",
          "height": 34
        },
        "outputId": "b44293a3-26eb-4f36-e6a2-8263e2fc567e"
      },
      "source": [
        "import tensorflow as tf\n",
        "\n",
        "tf.compat.v1.disable_eager_execution()\n",
        "\n",
        "node1 = tf.constant([3.0, 5.0])\n",
        "node2 = tf.constant([4.0, 6.0])\n",
        "sum = tf.add(node1, node2)\n",
        "\n",
        "# tf 1.0 with tf.Session() as sess:\n",
        "# sess = tf.compat.v1.Session()\n",
        "with tf.compat.v1.Session() as sess:\n",
        "    print(sess.run(sum))"
      ],
      "execution_count": 5,
      "outputs": [
        {
          "output_type": "stream",
          "text": [
            "[ 7. 11.]\n"
          ],
          "name": "stdout"
        }
      ]
    },
    {
      "cell_type": "markdown",
      "metadata": {
        "id": "_8msyX6EhV1E",
        "colab_type": "text"
      },
      "source": [
        "## 基础概念\n",
        "- 张量 tensor\n",
        "- 计算图 graph 节点 node 边 edge\n",
        "- 算子 operation\n",
        "- 会话 session - feed - fetch\n",
        "- 变量 variable"
      ]
    },
    {
      "cell_type": "markdown",
      "metadata": {
        "id": "QCI7wwEshV1E",
        "colab_type": "text"
      },
      "source": [
        "### Graph"
      ]
    },
    {
      "cell_type": "code",
      "metadata": {
        "id": "KedYPDDkhV1F",
        "colab_type": "code",
        "colab": {},
        "outputId": "eab8008a-a8ad-49f6-a728-35f2738a05e8"
      },
      "source": [
        "import tensorflow as tf\n",
        "\n",
        "\n",
        "tf.compat.v1.disable_eager_execution()\n",
        "\n",
        "node1 = tf.constant([3.0, 5.0])\n",
        "node2 = tf.constant([4.0, 6.0])\n",
        "\n",
        "# 获取图 理解为内存空间\n",
        "print(node1.graph)\n",
        "print(node2.graph)\n",
        "print(tf.compat.v1.get_default_graph())\n",
        "\n",
        "sum = tf.add(node1, node2)\n",
        "\n",
        "# tf 1.0 with tf.Session() as sess:\n",
        "# sess = tf.compat.v1.Session()\n",
        "with tf.compat.v1.Session() as sess:\n",
        "    print(sess.run(sum))"
      ],
      "execution_count": null,
      "outputs": [
        {
          "output_type": "stream",
          "text": [
            "<tensorflow.python.framework.ops.Graph object at 0x0000027E462A36A0>\n",
            "<tensorflow.python.framework.ops.Graph object at 0x0000027E462A36A0>\n",
            "<tensorflow.python.framework.ops.Graph object at 0x0000027E462A36A0>\n",
            "[ 7. 11.]\n"
          ],
          "name": "stdout"
        }
      ]
    },
    {
      "cell_type": "markdown",
      "metadata": {
        "id": "L6_0cpw-hV1H",
        "colab_type": "text"
      },
      "source": [
        "### 每个程序有个默认图 上面演示打印出默认图 get_default_graph\n",
        "- 下面是创建新图 tf.Graph() 并且使用\n"
      ]
    },
    {
      "cell_type": "code",
      "metadata": {
        "id": "ySw4NKPihV1I",
        "colab_type": "code",
        "colab": {},
        "outputId": "b2a29985-4821-438d-84f1-f621a5f16b91"
      },
      "source": [
        "# 创建一张新图\n",
        "g = tf.Graph()\n",
        "with g.as_default():\n",
        "    b = tf.constant(123)\n",
        "\n",
        "# 下面这句也可以用 with\n",
        "# sess = tf.compat.v1.Session(graph = g)\n",
        "with tf.compat.v1.Session(graph=g) as sess:\n",
        "    # print(sess.run(node1)) # 一个程序定义多张图 每张图 有不同的节点\n",
        "    print(b)\n",
        "    print(sess.run(b)) # 默认跑 default 图 但是b在g图里面 graph=g 指定g图\n"
      ],
      "execution_count": null,
      "outputs": [
        {
          "output_type": "stream",
          "text": [
            "Tensor(\"Const:0\", shape=(), dtype=int32)\n",
            "123\n"
          ],
          "name": "stdout"
        }
      ]
    },
    {
      "cell_type": "markdown",
      "metadata": {
        "id": "12z7TkiGhV1L",
        "colab_type": "text"
      },
      "source": [
        "# Session\n",
        "- 拥有并管理TensorFlow程序运行时的所有资源\n",
        "- 客户端使用Session和TF系统交互\n",
        "- 建立会话 -> 生成空图 -> 在Session中添加node和edge 形成一张图 -> execute"
      ]
    },
    {
      "cell_type": "code",
      "metadata": {
        "id": "8t8oiuCehV1M",
        "colab_type": "code",
        "colab": {},
        "outputId": "3113cb8c-d5d8-4f15-e668-bcc0c16c3361"
      },
      "source": [
        "# 测试 Session\n",
        "node1 = tf.constant(123)\n",
        "# 括号里面参数 显示结构\n",
        "with tf.compat.v1.Session(config=tf.compat.v1.ConfigProto(log_device_placement=True)) as sess:\n",
        "    # 两种方式取出 node1 的值 第二种方式需要 with 上下文环境\n",
        "    print(sess.run(node1))\n",
        "    print(node1.eval())\n",
        "# 关闭\n",
        "# sess.close()"
      ],
      "execution_count": null,
      "outputs": [
        {
          "output_type": "stream",
          "text": [
            "Device mapping:\n",
            "/job:localhost/replica:0/task:0/device:XLA_CPU:0 -> device: XLA_CPU device\n",
            "/job:localhost/replica:0/task:0/device:XLA_GPU:0 -> device: XLA_GPU device\n",
            "\n",
            "123\n",
            "123\n"
          ],
          "name": "stdout"
        }
      ]
    },
    {
      "cell_type": "markdown",
      "metadata": {
        "id": "yFaACCzlhV1O",
        "colab_type": "text"
      },
      "source": [
        "### 交互式Session tf.InteractiveSession()\n",
        "- 一般用在 对话框 prompt cmd 中"
      ]
    },
    {
      "cell_type": "markdown",
      "metadata": {
        "id": "J1jHb3y9hV1P",
        "colab_type": "text"
      },
      "source": [
        "## Feed 注入机制\n",
        "- 程序执行的时候 不确定输入的是什么 提前“占个坑”\n",
        "- 语法 placeholder提供占位符 run的时候通过feet_dict指定参数"
      ]
    },
    {
      "cell_type": "code",
      "metadata": {
        "id": "9kg93VtohV1P",
        "colab_type": "code",
        "colab": {
          "base_uri": "https://localhost:8080/",
          "height": 51
        },
        "outputId": "1a80758d-303b-4f0d-bacc-72aea648b193"
      },
      "source": [
        "# None：不知道样本多少个 3：特征为三个\n",
        "plt = tf.compat.v1.placeholder(tf.float32, [None, 3])\n",
        "with tf.compat.v1.Session() as sess:\n",
        "    # 数组数量（样本数）是None 所以 不局限于两个 但是特征值是 3\n",
        "    print(sess.run(plt, feed_dict={plt: [[1, 2, 3], [4, 5, 6]]}))"
      ],
      "execution_count": null,
      "outputs": [
        {
          "output_type": "stream",
          "text": [
            "[[1. 2. 3.]\n",
            " [4. 5. 6.]]\n"
          ],
          "name": "stdout"
        }
      ]
    },
    {
      "cell_type": "markdown",
      "metadata": {
        "id": "GohIlJIMhV1S",
        "colab_type": "text"
      },
      "source": [
        "## Fetch 取回机制\n",
        "- run() eval()"
      ]
    },
    {
      "cell_type": "markdown",
      "metadata": {
        "id": "gnLCN7uShV1T",
        "colab_type": "text"
      },
      "source": [
        "# Tensor 张量"
      ]
    },
    {
      "cell_type": "markdown",
      "metadata": {
        "id": "4_W5qKPQhV1T",
        "colab_type": "text"
      },
      "source": [
        "- 是数据的载体\n",
        "- 可以是任意维度的数据\n",
        "- 在一个运行的graph中，她是一种流动在node之间的数据\n",
        "- tensor 保存的是 张量 的数据结构 ： name+shape+type"
      ]
    },
    {
      "cell_type": "markdown",
      "metadata": {
        "id": "9xYgg-dchV1U",
        "colab_type": "text"
      },
      "source": [
        "## tensor的阶和数据类型"
      ]
    },
    {
      "cell_type": "markdown",
      "metadata": {
        "id": "8gsIxnc1hV1V",
        "colab_type": "text"
      },
      "source": [
        "|阶|数学实例|Python|例子|\n",
        "|-|-|-|-|\n",
        "|0|纯量|只有大小|S = 483|\n",
        "|1|向量|大小和方向|v = [1.1, 2.2]|\n",
        "|2|矩阵|数据表|m=[[1,2,3],[4,5,6],[7,8,9]]|\n",
        "|3|3阶张量|数据立体|t = [[[2],[4],[6],[8],[10],[12],[14],[16],[18]]]|\n",
        "|n|n阶|...|...|"
      ]
    },
    {
      "cell_type": "code",
      "metadata": {
        "id": "_UeSHYVGhV1V",
        "colab_type": "code",
        "colab": {
          "base_uri": "https://localhost:8080/",
          "height": 136
        },
        "outputId": "faec8fad-a272-4bf7-d530-fb4d1168824a"
      },
      "source": [
        "a = tf.constant(10)\n",
        "b = tf.constant([1.0, 2.0])\n",
        "c = tf.constant([[1, 2],[3, 4]])\n",
        "d = tf.constant([[[1,2,3],[4,5,6],[7,8,9]]])\n",
        "\n",
        "with tf.compat.v1.Session() as sess:\n",
        "  print(sess.run(a))\n",
        "  print(sess.run(b))\n",
        "  print(sess.run(c))\n",
        "  print(sess.run(d))\n"
      ],
      "execution_count": 17,
      "outputs": [
        {
          "output_type": "stream",
          "text": [
            "10\n",
            "[1. 2.]\n",
            "[[1 2]\n",
            " [3 4]]\n",
            "[[[1 2 3]\n",
            "  [4 5 6]\n",
            "  [7 8 9]]]\n"
          ],
          "name": "stdout"
        }
      ]
    },
    {
      "cell_type": "code",
      "metadata": {
        "id": "FMxt-OIWkWcg",
        "colab_type": "code",
        "colab": {
          "base_uri": "https://localhost:8080/",
          "height": 34
        },
        "outputId": "ab812f6d-9ec5-4b2f-cefc-d76eac441942"
      },
      "source": [
        "print(tf.__version__)"
      ],
      "execution_count": 15,
      "outputs": [
        {
          "output_type": "stream",
          "text": [
            "2.3.0\n"
          ],
          "name": "stdout"
        }
      ]
    },
    {
      "cell_type": "code",
      "metadata": {
        "id": "ZiMctksllasg",
        "colab_type": "code",
        "colab": {}
      },
      "source": [
        ""
      ],
      "execution_count": null,
      "outputs": []
    }
  ]
}